{
 "cells": [
  {
   "cell_type": "code",
   "execution_count": null,
   "id": "e55074e4",
   "metadata": {},
   "outputs": [],
   "source": [
    "import matplotlib.pyplot as plt\n",
    "from pathlib import Path\n",
    "import pandas as pd"
   ]
  },
  {
   "cell_type": "code",
   "execution_count": null,
   "id": "7fc2e437",
   "metadata": {},
   "outputs": [],
   "source": [
    "hdf5_file=Path(\"hdf5.csv\")\n",
    "assert hdf5_file.exists()\n",
    "\n",
    "netcdf_file=Path(\"netcdf.csv\")\n",
    "assert netcdf_file.exists()"
   ]
  },
  {
   "cell_type": "code",
   "execution_count": null,
   "id": "f8855b4c",
   "metadata": {},
   "outputs": [],
   "source": [
    "df_hdf5 = pd.read_csv(hdf5_file)\n",
    "df_hdf5=df_hdf5.drop([\"_id\", \"analysisRequired\", \"cloneUrl\", \"pushDate\", \"stars\"], axis=1)"
   ]
  },
  {
   "cell_type": "code",
   "execution_count": null,
   "id": "1e2f61c2",
   "metadata": {},
   "outputs": [],
   "source": [
    "df_netcdf = pd.read_csv(netcdf_file)\n",
    "df_netcdf=df_netcdf.drop([\"_id\", \"analysisRequired\", \"cloneUrl\", \"pushDate\", \"stars\"], axis=1)"
   ]
  },
  {
   "cell_type": "code",
   "execution_count": null,
   "id": "6c1010aa",
   "metadata": {},
   "outputs": [],
   "source": [
    "fig, ax = plt.subplots()\n",
    "ax.set_title(\"Hdf5\\nAufsummierte Treffer\")\n",
    "\n",
    "data=df_hdf5.sum()\n",
    "x_values=data.index\n",
    "y_values=data.values\n",
    "ax.bar(x_values, y_values)\n",
    "\n",
    "ax.set_ylabel(\"Anzahl\")\n",
    "ax.set_xlabel(\"Suchphrase\")\n",
    "_=ax.set_xticklabels(x_values, rotation=90)\n",
    "\n",
    "fig.tight_layout()\n",
    "fig.savefig(\"results/hdf5_aufsummierte_treffer.svg\")"
   ]
  },
  {
   "cell_type": "code",
   "execution_count": null,
   "id": "450109e1",
   "metadata": {},
   "outputs": [],
   "source": [
    "fig, ax = plt.subplots()\n",
    "ax.set_title(\"netCDF\\nAufsummierte Treffer\")\n",
    "\n",
    "data=df_netcdf.sum()\n",
    "x_values=data.index\n",
    "y_values=data.values\n",
    "ax.bar(x_values, y_values)\n",
    "\n",
    "ax.set_ylabel(\"Anzahl\")\n",
    "ax.set_xlabel(\"Suchphrase\")\n",
    "_=ax.set_xticklabels(x_values, rotation=90)\n",
    "\n",
    "fig.tight_layout()\n",
    "fig.savefig(\"results/netcdf_aufsummierte_treffer.svg\")"
   ]
  },
  {
   "cell_type": "code",
   "execution_count": null,
   "id": "d7cb7264",
   "metadata": {},
   "outputs": [],
   "source": [
    "fig, axs = plt.subplots(2,1, height_ratios=[1,3])\n",
    "ax=axs[1]\n",
    "ax2=axs[0]\n",
    "\n",
    "ax2.set_title(\"HDF5\\nGenerelle Anzahl Repositories mit Treffer\")\n",
    "\n",
    "data=(df_hdf5 > 0).sum()\n",
    "percent = data/len(df_hdf5)*100\n",
    "x_values=data.index\n",
    "y_values=data.values\n",
    "ax.bar(x_values, y_values)\n",
    "ax2.plot(percent)\n",
    "ax2.set_xticklabels([])\n",
    "ax2.set_ylabel(\"Anzahl [%]\")\n",
    "\n",
    "ax.set_ylabel(\"Anzahl\")\n",
    "ax.set_xlabel(\"Suchphrase\")\n",
    "_=ax.set_xticklabels(x_values, rotation=90)\n",
    "\n",
    "fig.tight_layout()\n",
    "fig.savefig(\"results/hdf5_generelle_treffer.svg\")"
   ]
  },
  {
   "cell_type": "code",
   "execution_count": null,
   "id": "e95a9a5a",
   "metadata": {},
   "outputs": [],
   "source": [
    "fig, axs = plt.subplots(2,1, height_ratios=[1,3])\n",
    "ax=axs[1]\n",
    "ax2=axs[0]\n",
    "\n",
    "ax2.set_title(\"netCDF\\nGenerelle Anzahl Repositories mit Treffer\")\n",
    "\n",
    "data=(df_netcdf > 0).sum()\n",
    "percent = data/len(df_netcdf)*100\n",
    "x_values=data.index\n",
    "y_values=data.values\n",
    "ax.bar(x_values, y_values)\n",
    "ax2.plot(percent)\n",
    "ax2.set_xticklabels([])\n",
    "ax2.set_ylabel(\"Anzahl [%]\")\n",
    "\n",
    "ax.set_ylabel(\"Anzahl\")\n",
    "ax.set_xlabel(\"Suchphrase\")\n",
    "_=ax.set_xticklabels(x_values, rotation=90)\n",
    "\n",
    "fig.tight_layout()\n",
    "fig.savefig(\"results/netcdf_generelle_treffer.svg\")"
   ]
  },
  {
   "cell_type": "code",
   "execution_count": null,
   "id": "37d43e09",
   "metadata": {},
   "outputs": [],
   "source": [
    "fig, axs = plt.subplots(1,2, figsize=(20,6))\n",
    "ax1=axs[0]\n",
    "ax2=axs[1]\n",
    "ax1.set_title(\"HDF55\\nVerteilung Treffer\")\n",
    "\n",
    "y_values=df_hdf5.values\n",
    "ax1.boxplot(y_values, tick_labels=df_hdf5.columns)\n",
    "\n",
    "ax1.set_ylabel(\"Anzahl\")\n",
    "ax1.set_xlabel(\"Suchphrase\")\n",
    "_=ax1.set_xticklabels(df_hdf5.columns, rotation=90)\n",
    "\n",
    "limit=300\n",
    "ax2.set_title(f\"HDF%\\nVerteilung Treffer (Limit Y-Achse: {limit})\")\n",
    "ax2.boxplot(y_values, tick_labels=df_hdf5.columns)\n",
    "\n",
    "ax2.set_ylabel(\"Anzahl\")\n",
    "ax2.set_xlabel(\"Suchphrase\")\n",
    "_=ax2.set_xticklabels(df_hdf5.columns, rotation=90)\n",
    "ax2.set_ylim(0,limit)\n",
    "\n",
    "fig.tight_layout()\n",
    "fig.savefig(\"results/hdf5_verteilung_treffer.svg\")"
   ]
  },
  {
   "cell_type": "code",
   "execution_count": null,
   "id": "b8fd4495",
   "metadata": {},
   "outputs": [],
   "source": [
    "fig, axs = plt.subplots(1,2, figsize=(20,6))\n",
    "ax1=axs[0]\n",
    "ax2=axs[1]\n",
    "ax1.set_title(\"netCDF\\nVerteilung Treffer\")\n",
    "\n",
    "y_values=df_netcdf.values\n",
    "ax1.boxplot(y_values, tick_labels=df_netcdf.columns)\n",
    "\n",
    "ax1.set_ylabel(\"Anzahl\")\n",
    "ax1.set_xlabel(\"Suchphrase\")\n",
    "_=ax1.set_xticklabels(df_netcdf.columns, rotation=90)\n",
    "\n",
    "limit=150\n",
    "ax2.set_title(f\"netCDF\\nVerteilung Treffer (Limit Y-Achse: {limit})\")\n",
    "ax2.boxplot(y_values, tick_labels=df_netcdf.columns)\n",
    "\n",
    "ax2.set_ylabel(\"Anzahl\")\n",
    "ax2.set_xlabel(\"Suchphrase\")\n",
    "_=ax2.set_xticklabels(df_netcdf.columns, rotation=90)\n",
    "ax2.set_ylim(0,limit)\n",
    "\n",
    "fig.tight_layout()\n",
    "fig.savefig(\"results/netcdf_verteilung_treffer.svg\")"
   ]
  }
 ],
 "metadata": {
  "kernelspec": {
   "display_name": "Python 3",
   "language": "python",
   "name": "python3"
  },
  "language_info": {
   "codemirror_mode": {
    "name": "ipython",
    "version": 3
   },
   "file_extension": ".py",
   "mimetype": "text/x-python",
   "name": "python",
   "nbconvert_exporter": "python",
   "pygments_lexer": "ipython3",
   "version": "3.13.3"
  }
 },
 "nbformat": 4,
 "nbformat_minor": 5
}
